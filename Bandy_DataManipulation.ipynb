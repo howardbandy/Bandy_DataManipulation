{
 "cells": [
  {
   "cell_type": "markdown",
   "id": "knowing-weapon",
   "metadata": {},
   "source": [
    "# Bandy_DataManipulation.ipynb"
   ]
  },
  {
   "cell_type": "markdown",
   "id": "controversial-command",
   "metadata": {},
   "source": [
    "###  Howard Bandy\n",
    "###  home/howard/ProjectsDirectory/Manning_DataManipulation"
   ]
  },
  {
   "cell_type": "markdown",
   "id": "moral-mitchell",
   "metadata": {},
   "source": [
    "## Part 1 -- Form a weekly time series"
   ]
  },
  {
   "cell_type": "markdown",
   "id": "adult-explanation",
   "metadata": {},
   "source": [
    "### Objective\n",
    "\n",
    "- You are given a dataset of hotel booking entries. The original dataset by Antonio, Almeida and Nunes (2019) is available below. The dataset contains an IsCanceled variable (1 = customer cancels their booking, 0 = customer does not cancel their booking).\n",
    "\n",
    "- The dataset contains numerous cancellation entries across the same time period. Your objective is to manipulate this dataset to form a time series of aggregate cancellations per week.\n",
    "\n",
    "### Workflow\n",
    "\n",
    "Load the dataset and use pandas to obtain the sum of cancellation entries by week, for example form a new time series which contains the total number of cancellations per week.\n",
    "\n",
    "### Deliverable\n",
    "\n",
    "The deliverable for this project is a Jupyter Notebook outlining the following:\n",
    "\n",
    "A newly formed weekly time series aggregating the total number of cancellations per week. \n"
   ]
  },
  {
   "cell_type": "code",
   "execution_count": 1,
   "id": "intelligent-southwest",
   "metadata": {},
   "outputs": [
    {
     "name": "stdout",
     "output_type": "stream",
     "text": [
      "pandas version:  1.2.3\n"
     ]
    }
   ],
   "source": [
    "import pandas as pd\n",
    "print ('pandas version: ', pd.__version__)"
   ]
  },
  {
   "cell_type": "code",
   "execution_count": 2,
   "id": "imposed-mercury",
   "metadata": {},
   "outputs": [
    {
     "name": "stdout",
     "output_type": "stream",
     "text": [
      "   IsCanceled  LeadTime  ArrivalDateYear ArrivalDateMonth  \\\n",
      "0           0       342             2015             July   \n",
      "1           0       737             2015             July   \n",
      "2           0         7             2015             July   \n",
      "3           0        13             2015             July   \n",
      "4           0        14             2015             July   \n",
      "\n",
      "   ArrivalDateWeekNumber  ArrivalDateDayOfMonth  StaysInWeekendNights  \\\n",
      "0                     27                      1                     0   \n",
      "1                     27                      1                     0   \n",
      "2                     27                      1                     0   \n",
      "3                     27                      1                     0   \n",
      "4                     27                      1                     0   \n",
      "\n",
      "   StaysInWeekNights  Adults  Children  ...      DepositType        Agent  \\\n",
      "0                  0       2         0  ...  No Deposit              NULL   \n",
      "1                  0       2         0  ...  No Deposit              NULL   \n",
      "2                  1       1         0  ...  No Deposit              NULL   \n",
      "3                  1       1         0  ...  No Deposit               304   \n",
      "4                  2       2         0  ...  No Deposit               240   \n",
      "\n",
      "       Company DaysInWaitingList CustomerType   ADR  RequiredCarParkingSpaces  \\\n",
      "0         NULL                 0    Transient   0.0                         0   \n",
      "1         NULL                 0    Transient   0.0                         0   \n",
      "2         NULL                 0    Transient  75.0                         0   \n",
      "3         NULL                 0    Transient  75.0                         0   \n",
      "4         NULL                 0    Transient  98.0                         0   \n",
      "\n",
      "   TotalOfSpecialRequests ReservationStatus ReservationStatusDate  \n",
      "0                       0         Check-Out            2015-07-01  \n",
      "1                       0         Check-Out            2015-07-01  \n",
      "2                       0         Check-Out            2015-07-02  \n",
      "3                       0         Check-Out            2015-07-02  \n",
      "4                       1         Check-Out            2015-07-03  \n",
      "\n",
      "[5 rows x 31 columns]\n",
      "       IsCanceled  LeadTime  ArrivalDateYear ArrivalDateMonth  \\\n",
      "40055           0       212             2017           August   \n",
      "40056           0       169             2017           August   \n",
      "40057           0       204             2017           August   \n",
      "40058           0       211             2017           August   \n",
      "40059           0       161             2017           August   \n",
      "\n",
      "       ArrivalDateWeekNumber  ArrivalDateDayOfMonth  StaysInWeekendNights  \\\n",
      "40055                     35                     31                     2   \n",
      "40056                     35                     30                     2   \n",
      "40057                     35                     29                     4   \n",
      "40058                     35                     31                     4   \n",
      "40059                     35                     31                     4   \n",
      "\n",
      "       StaysInWeekNights  Adults  Children  ...      DepositType        Agent  \\\n",
      "40055                  8       2         1  ...  No Deposit               143   \n",
      "40056                  9       2         0  ...  No Deposit               250   \n",
      "40057                 10       2         0  ...  No Deposit               250   \n",
      "40058                 10       2         0  ...  No Deposit                40   \n",
      "40059                 10       2         0  ...  No Deposit                69   \n",
      "\n",
      "           Company DaysInWaitingList     CustomerType     ADR  \\\n",
      "40055         NULL                 0        Transient   89.75   \n",
      "40056         NULL                 0  Transient-Party  202.27   \n",
      "40057         NULL                 0        Transient  153.57   \n",
      "40058         NULL                 0         Contract  112.80   \n",
      "40059         NULL                 0        Transient   99.06   \n",
      "\n",
      "       RequiredCarParkingSpaces  TotalOfSpecialRequests ReservationStatus  \\\n",
      "40055                         0                       0         Check-Out   \n",
      "40056                         0                       1         Check-Out   \n",
      "40057                         0                       3         Check-Out   \n",
      "40058                         0                       1         Check-Out   \n",
      "40059                         0                       0         Check-Out   \n",
      "\n",
      "      ReservationStatusDate  \n",
      "40055            2017-09-10  \n",
      "40056            2017-09-10  \n",
      "40057            2017-09-12  \n",
      "40058            2017-09-14  \n",
      "40059            2017-09-14  \n",
      "\n",
      "[5 rows x 31 columns]\n",
      "H1 is of type:  <class 'pandas.core.frame.DataFrame'>\n"
     ]
    }
   ],
   "source": [
    "working_directory = '/home/howard/ProjectsDirectory/Manning_DataManipulation'\n",
    "H1 = pd.read_csv(working_directory+'/H1.csv')\n",
    "print (H1.head())\n",
    "print (H1.tail())\n",
    "print ('H1 is of type: ', type(H1))"
   ]
  },
  {
   "cell_type": "code",
   "execution_count": 3,
   "id": "compliant-manual",
   "metadata": {},
   "outputs": [
    {
     "name": "stdout",
     "output_type": "stream",
     "text": [
      "<class 'pandas.core.frame.DataFrame'>\n",
      "RangeIndex: 40060 entries, 0 to 40059\n",
      "Data columns (total 31 columns):\n",
      " #   Column                       Non-Null Count  Dtype  \n",
      "---  ------                       --------------  -----  \n",
      " 0   IsCanceled                   40060 non-null  int64  \n",
      " 1   LeadTime                     40060 non-null  int64  \n",
      " 2   ArrivalDateYear              40060 non-null  int64  \n",
      " 3   ArrivalDateMonth             40060 non-null  object \n",
      " 4   ArrivalDateWeekNumber        40060 non-null  int64  \n",
      " 5   ArrivalDateDayOfMonth        40060 non-null  int64  \n",
      " 6   StaysInWeekendNights         40060 non-null  int64  \n",
      " 7   StaysInWeekNights            40060 non-null  int64  \n",
      " 8   Adults                       40060 non-null  int64  \n",
      " 9   Children                     40060 non-null  int64  \n",
      " 10  Babies                       40060 non-null  int64  \n",
      " 11  Meal                         40060 non-null  object \n",
      " 12  Country                      39596 non-null  object \n",
      " 13  MarketSegment                40060 non-null  object \n",
      " 14  DistributionChannel          40060 non-null  object \n",
      " 15  IsRepeatedGuest              40060 non-null  int64  \n",
      " 16  PreviousCancellations        40060 non-null  int64  \n",
      " 17  PreviousBookingsNotCanceled  40060 non-null  int64  \n",
      " 18  ReservedRoomType             40060 non-null  object \n",
      " 19  AssignedRoomType             40060 non-null  object \n",
      " 20  BookingChanges               40060 non-null  int64  \n",
      " 21  DepositType                  40060 non-null  object \n",
      " 22  Agent                        40060 non-null  object \n",
      " 23  Company                      40060 non-null  object \n",
      " 24  DaysInWaitingList            40060 non-null  int64  \n",
      " 25  CustomerType                 40060 non-null  object \n",
      " 26  ADR                          40060 non-null  float64\n",
      " 27  RequiredCarParkingSpaces     40060 non-null  int64  \n",
      " 28  TotalOfSpecialRequests       40060 non-null  int64  \n",
      " 29  ReservationStatus            40060 non-null  object \n",
      " 30  ReservationStatusDate        40060 non-null  object \n",
      "dtypes: float64(1), int64(17), object(13)\n",
      "memory usage: 9.5+ MB\n",
      "None\n"
     ]
    }
   ],
   "source": [
    "print (H1.info())"
   ]
  },
  {
   "cell_type": "code",
   "execution_count": 4,
   "id": "guilty-ancient",
   "metadata": {},
   "outputs": [
    {
     "name": "stdout",
     "output_type": "stream",
     "text": [
      "   IsCanceled  LeadTime  ArrivalDateYear ArrivalDateMonth  \\\n",
      "0           0       342             2015             July   \n",
      "1           0       737             2015             July   \n",
      "2           0         7             2015             July   \n",
      "3           0        13             2015             July   \n",
      "4           0        14             2015             July   \n",
      "\n",
      "   ArrivalDateWeekNumber  ArrivalDateDayOfMonth  StaysInWeekendNights  \\\n",
      "0                     27                      1                     0   \n",
      "1                     27                      1                     0   \n",
      "2                     27                      1                     0   \n",
      "3                     27                      1                     0   \n",
      "4                     27                      1                     0   \n",
      "\n",
      "   StaysInWeekNights  Adults  Children  ...  DaysInWaitingList CustomerType  \\\n",
      "0                  0       2         0  ...                  0    Transient   \n",
      "1                  0       2         0  ...                  0    Transient   \n",
      "2                  1       1         0  ...                  0    Transient   \n",
      "3                  1       1         0  ...                  0    Transient   \n",
      "4                  2       2         0  ...                  0    Transient   \n",
      "\n",
      "    ADR RequiredCarParkingSpaces TotalOfSpecialRequests  ReservationStatus  \\\n",
      "0   0.0                        0                      0          Check-Out   \n",
      "1   0.0                        0                      0          Check-Out   \n",
      "2  75.0                        0                      0          Check-Out   \n",
      "3  75.0                        0                      0          Check-Out   \n",
      "4  98.0                        0                      1          Check-Out   \n",
      "\n",
      "   ReservationStatusDate  strwn stryr   stryd  \n",
      "0             2015-07-01     27  2015  201527  \n",
      "1             2015-07-01     27  2015  201527  \n",
      "2             2015-07-02     27  2015  201527  \n",
      "3             2015-07-02     27  2015  201527  \n",
      "4             2015-07-03     27  2015  201527  \n",
      "\n",
      "[5 rows x 34 columns]\n",
      "<class 'pandas.core.frame.DataFrame'>\n",
      "RangeIndex: 40060 entries, 0 to 40059\n",
      "Data columns (total 34 columns):\n",
      " #   Column                       Non-Null Count  Dtype  \n",
      "---  ------                       --------------  -----  \n",
      " 0   IsCanceled                   40060 non-null  int64  \n",
      " 1   LeadTime                     40060 non-null  int64  \n",
      " 2   ArrivalDateYear              40060 non-null  int64  \n",
      " 3   ArrivalDateMonth             40060 non-null  object \n",
      " 4   ArrivalDateWeekNumber        40060 non-null  int64  \n",
      " 5   ArrivalDateDayOfMonth        40060 non-null  int64  \n",
      " 6   StaysInWeekendNights         40060 non-null  int64  \n",
      " 7   StaysInWeekNights            40060 non-null  int64  \n",
      " 8   Adults                       40060 non-null  int64  \n",
      " 9   Children                     40060 non-null  int64  \n",
      " 10  Babies                       40060 non-null  int64  \n",
      " 11  Meal                         40060 non-null  object \n",
      " 12  Country                      39596 non-null  object \n",
      " 13  MarketSegment                40060 non-null  object \n",
      " 14  DistributionChannel          40060 non-null  object \n",
      " 15  IsRepeatedGuest              40060 non-null  int64  \n",
      " 16  PreviousCancellations        40060 non-null  int64  \n",
      " 17  PreviousBookingsNotCanceled  40060 non-null  int64  \n",
      " 18  ReservedRoomType             40060 non-null  object \n",
      " 19  AssignedRoomType             40060 non-null  object \n",
      " 20  BookingChanges               40060 non-null  int64  \n",
      " 21  DepositType                  40060 non-null  object \n",
      " 22  Agent                        40060 non-null  object \n",
      " 23  Company                      40060 non-null  object \n",
      " 24  DaysInWaitingList            40060 non-null  int64  \n",
      " 25  CustomerType                 40060 non-null  object \n",
      " 26  ADR                          40060 non-null  float64\n",
      " 27  RequiredCarParkingSpaces     40060 non-null  int64  \n",
      " 28  TotalOfSpecialRequests       40060 non-null  int64  \n",
      " 29  ReservationStatus            40060 non-null  object \n",
      " 30  ReservationStatusDate        40060 non-null  object \n",
      " 31  strwn                        40060 non-null  object \n",
      " 32  stryr                        40060 non-null  object \n",
      " 33  stryd                        40060 non-null  object \n",
      "dtypes: float64(1), int64(17), object(16)\n",
      "memory usage: 10.4+ MB\n",
      "None\n"
     ]
    }
   ],
   "source": [
    "S = H1['ArrivalDateWeekNumber'].astype(str) \n",
    "# print (S)\n",
    "S = '0' + S\n",
    "Right = S.str[-2:]\n",
    "# print (Right)\n",
    "H1['strwn'] = Right\n",
    "H1['stryr'] = H1['ArrivalDateYear'].astype(str)\n",
    "H1['stryd'] = H1['stryr'] + H1['strwn']\n",
    "    \n",
    "print (H1.head())\n",
    "print (H1.info())"
   ]
  },
  {
   "cell_type": "code",
   "execution_count": 5,
   "id": "transparent-sword",
   "metadata": {},
   "outputs": [
    {
     "name": "stdout",
     "output_type": "stream",
     "text": [
      "  Date (Year and Week Number)  IsCanceled\n",
      "0                      201527          41\n",
      "1                      201528          48\n",
      "2                      201529          87\n",
      "3                      201530          74\n",
      "4                      201531         101\n"
     ]
    }
   ],
   "source": [
    "H1Grouped = H1.groupby('stryd',as_index=False)['IsCanceled'].sum()\n",
    "# print (H1Grouped.head())\n",
    "# print (H1Grouped.info())\n",
    "# print ('----------')\n",
    "H1Grouped.columns = ['Date (Year and Week Number)', 'IsCanceled']\n",
    "print (H1Grouped.head())"
   ]
  },
  {
   "cell_type": "code",
   "execution_count": 6,
   "id": "dimensional-fancy",
   "metadata": {},
   "outputs": [
    {
     "data": {
      "text/html": [
       "<div>\n",
       "<style scoped>\n",
       "    .dataframe tbody tr th:only-of-type {\n",
       "        vertical-align: middle;\n",
       "    }\n",
       "\n",
       "    .dataframe tbody tr th {\n",
       "        vertical-align: top;\n",
       "    }\n",
       "\n",
       "    .dataframe thead th {\n",
       "        text-align: right;\n",
       "    }\n",
       "</style>\n",
       "<table border=\"1\" class=\"dataframe\">\n",
       "  <thead>\n",
       "    <tr style=\"text-align: right;\">\n",
       "      <th></th>\n",
       "      <th>IsCanceled</th>\n",
       "    </tr>\n",
       "    <tr>\n",
       "      <th>Date (Year and Week Number)</th>\n",
       "      <th></th>\n",
       "    </tr>\n",
       "  </thead>\n",
       "  <tbody>\n",
       "    <tr>\n",
       "      <th>201527</th>\n",
       "      <td>41</td>\n",
       "    </tr>\n",
       "    <tr>\n",
       "      <th>201528</th>\n",
       "      <td>48</td>\n",
       "    </tr>\n",
       "    <tr>\n",
       "      <th>201529</th>\n",
       "      <td>87</td>\n",
       "    </tr>\n",
       "    <tr>\n",
       "      <th>201530</th>\n",
       "      <td>74</td>\n",
       "    </tr>\n",
       "    <tr>\n",
       "      <th>201531</th>\n",
       "      <td>101</td>\n",
       "    </tr>\n",
       "    <tr>\n",
       "      <th>...</th>\n",
       "      <td>...</td>\n",
       "    </tr>\n",
       "    <tr>\n",
       "      <th>201731</th>\n",
       "      <td>173</td>\n",
       "    </tr>\n",
       "    <tr>\n",
       "      <th>201732</th>\n",
       "      <td>140</td>\n",
       "    </tr>\n",
       "    <tr>\n",
       "      <th>201733</th>\n",
       "      <td>182</td>\n",
       "    </tr>\n",
       "    <tr>\n",
       "      <th>201734</th>\n",
       "      <td>143</td>\n",
       "    </tr>\n",
       "    <tr>\n",
       "      <th>201735</th>\n",
       "      <td>100</td>\n",
       "    </tr>\n",
       "  </tbody>\n",
       "</table>\n",
       "<p>115 rows × 1 columns</p>\n",
       "</div>"
      ],
      "text/plain": [
       "                             IsCanceled\n",
       "Date (Year and Week Number)            \n",
       "201527                               41\n",
       "201528                               48\n",
       "201529                               87\n",
       "201530                               74\n",
       "201531                              101\n",
       "...                                 ...\n",
       "201731                              173\n",
       "201732                              140\n",
       "201733                              182\n",
       "201734                              143\n",
       "201735                              100\n",
       "\n",
       "[115 rows x 1 columns]"
      ]
     },
     "execution_count": 6,
     "metadata": {},
     "output_type": "execute_result"
    }
   ],
   "source": [
    "H1Grouped.set_index(['Date (Year and Week Number)'])"
   ]
  },
  {
   "cell_type": "code",
   "execution_count": 7,
   "id": "medium-basic",
   "metadata": {},
   "outputs": [
    {
     "name": "stdout",
     "output_type": "stream",
     "text": [
      "   Date (Year and Week Number)  IsCanceled\n",
      "0                       201527          41\n",
      "1                       201528          48\n",
      "2                       201529          87\n",
      "3                       201530          74\n",
      "4                       201531         101\n",
      "5                       201532          68\n",
      "6                       201533          96\n",
      "7                       201534          69\n",
      "8                       201535          88\n",
      "9                       201536         148\n",
      "10                      201537          76\n",
      "11                      201538         186\n",
      "12                      201539         123\n",
      "13                      201540          91\n",
      "14                      201541         198\n",
      "15                      201542          16\n",
      "16                      201543          94\n",
      "17                      201544          44\n",
      "18                      201545          45\n",
      "19                      201546          54\n",
      "20                      201547          63\n",
      "21                      201548          18\n",
      "22                      201549         127\n",
      "23                      201550          24\n",
      "24                      201551          37\n",
      "25                      201552          79\n",
      "26                      201553          43\n",
      "27                      201601          35\n",
      "28                      201602          40\n",
      "29                      201603          14\n",
      "30                      201604          14\n",
      "31                      201605          15\n",
      "32                      201606          57\n",
      "33                      201607         176\n",
      "34                      201608          33\n",
      "35                      201609         133\n",
      "36                      201610          88\n",
      "37                      201611          48\n",
      "38                      201612          65\n",
      "39                      201613         118\n"
     ]
    }
   ],
   "source": [
    "print (H1Grouped.head(40))"
   ]
  },
  {
   "cell_type": "markdown",
   "id": "framed-speaking",
   "metadata": {},
   "source": [
    "### Deliverable\n",
    "\n",
    "The deliverable for this project is a Jupyter Notebook outlining the following:\n",
    "\n",
    "A newly formed weekly time series aggregating the total number of cancellations per week. \n",
    "\n",
    "### Importance to the project\n",
    "\n",
    "In addition, the newly formed time series in this milestone will be used as the basis for running further modeling techniques in the subsequent milestones."
   ]
  },
  {
   "cell_type": "code",
   "execution_count": 8,
   "id": "differential-celebrity",
   "metadata": {},
   "outputs": [
    {
     "name": "stdout",
     "output_type": "stream",
     "text": [
      "All done with Part 1\n",
      "\n",
      "*******************************************************\n",
      "\n"
     ]
    }
   ],
   "source": [
    "print ('All done with Part 1')\n",
    "print ('\\n*******************************************************\\n')\n"
   ]
  },
  {
   "cell_type": "markdown",
   "id": "modern-harris",
   "metadata": {},
   "source": [
    "## Part 2 -- Time series components"
   ]
  },
  {
   "cell_type": "markdown",
   "id": "satisfactory-nirvana",
   "metadata": {},
   "source": [
    "### Objective\n",
    "\n",
    "Remember the weekly time series that you formed in Milestone 1? We would like to understand a bit more about this time series.\n",
    "\n",
    "There are certain aspects of a time series that cannot necessarily be gleaned from simply “eye-balling” a plot of the series.\n",
    "\n",
    "Your objectives in this milestone are the following:\n",
    "- Decompose the time series and plot its components.\n",
    "- Generate autocorrelation and partial autocorrelation plots for the time series.\n",
    "- Calculate a 4-week moving average on the time series and plot this moving average against the actual time series. Note that the selection of a 4-week moving average is arbitrary. It is used in this case to give a better visual idea of the longer-term trend.\n",
    "\n",
    "### Workflow\n",
    "\n",
    "1. Decompose the time series and plot the trend, residual and seasonal components.\n",
    "\n",
    "2. Generate separate plots for the values of acf and pacf using statsmodels.\n",
    "\n",
    "3. Use pandas to calculate a 4-period SMA and plot this against the actual time series.\n",
    "\n",
    "4. Split the time series into training and test partitions. Allocate 90% of the data to the training set and 10% to the test set.\n",
    "\n",
    "### Deliverable\n",
    "\n",
    "The deliverable for this project is a Jupyter Notebook outlining the following:\n",
    "\n",
    "1. Decomposition of the time series, and plots of the trend, residual, and seasonal components\n",
    "2. Autocorrelation and partial autocorrelation plots of the time series\n",
    "3. A 4-period SMA plotted against the actual time series\n",
    "4. 90/10 train-test split\n"
   ]
  },
  {
   "cell_type": "code",
   "execution_count": 9,
   "id": "junior-growth",
   "metadata": {},
   "outputs": [],
   "source": [
    "import matplotlib.pyplot as plt\n",
    "import numpy as np\n",
    "from statsmodels.graphics.tsaplots import plot_acf\n",
    "from statsmodels import tsa"
   ]
  },
  {
   "cell_type": "code",
   "execution_count": 10,
   "id": "previous-lecture",
   "metadata": {},
   "outputs": [
    {
     "name": "stdout",
     "output_type": "stream",
     "text": [
      "0       41\n",
      "1       48\n",
      "2       87\n",
      "3       74\n",
      "4      101\n",
      "      ... \n",
      "110    173\n",
      "111    140\n",
      "112    182\n",
      "113    143\n",
      "114    100\n",
      "Name: IsCanceled, Length: 115, dtype: int64\n"
     ]
    },
    {
     "data": {
      "text/plain": [
       "count    115.000000\n",
       "mean      96.713043\n",
       "std       45.865510\n",
       "min       14.000000\n",
       "25%       64.000000\n",
       "50%       95.000000\n",
       "75%      127.500000\n",
       "max      222.000000\n",
       "Name: IsCanceled, dtype: float64"
      ]
     },
     "execution_count": 10,
     "metadata": {},
     "output_type": "execute_result"
    }
   ],
   "source": [
    "series = pd.Series(H1Grouped.IsCanceled)\n",
    "print (series)\n",
    "series.describe()"
   ]
  },
  {
   "cell_type": "code",
   "execution_count": 11,
   "id": "random-diary",
   "metadata": {},
   "outputs": [
    {
     "data": {
      "text/plain": [
       "<AxesSubplot:>"
      ]
     },
     "execution_count": 11,
     "metadata": {},
     "output_type": "execute_result"
    },
    {
     "data": {
      "image/png": "[encoded data removed]",
      "text/plain": [
       "<Figure size 432x288 with 1 Axes>"
      ]
     },
     "metadata": {
      "needs_background": "light"
     },
     "output_type": "display_data"
    }
   ],
   "source": [
    "series.plot()"
   ]
  },
  {
   "cell_type": "code",
   "execution_count": 12,
   "id": "rough-hughes",
   "metadata": {},
   "outputs": [
    {
     "name": "stdout",
     "output_type": "stream",
     "text": [
      "[ 1.          0.36055904  0.43832205  0.40127022  0.22826716  0.24918724\n",
      "  0.15101187  0.18028853  0.24989161  0.15601839  0.07915897  0.23154771\n",
      " -0.0169825  -0.01466523 -0.0033419  -0.08290528 -0.01984712 -0.135677\n",
      " -0.12177448 -0.03335962 -0.17835337 -0.13422302 -0.03268604 -0.07548972\n",
      " -0.0421531  -0.04994595 -0.10848361 -0.07935225 -0.14858541 -0.21920401\n",
      " -0.07485366 -0.1276737  -0.08496734 -0.06135381 -0.0346665  -0.02197916\n",
      " -0.03738199 -0.0693973  -0.05242808 -0.10479092 -0.05708971]\n"
     ]
    },
    {
     "data": {
      "text/plain": [
       "(41,)"
      ]
     },
     "execution_count": 12,
     "metadata": {},
     "output_type": "execute_result"
    }
   ],
   "source": [
    "nlags=40\n",
    "acf = (tsa.stattools.acf(series,nlags=nlags,fft=False))\n",
    "print (acf)\n",
    "acf.shape"
   ]
  },
  {
   "cell_type": "code",
   "execution_count": 13,
   "id": "sensitive-porter",
   "metadata": {},
   "outputs": [
    {
     "name": "stdout",
     "output_type": "stream",
     "text": [
      "[ 0  1  2  3  4  5  6  7  8  9 10 11 12 13 14 15 16 17 18 19 20 21 22 23\n",
      " 24 25 26 27 28 29 30 31 32 33 34 35 36 37 38 39 40]\n"
     ]
    },
    {
     "data": {
      "text/plain": [
       "(41,)"
      ]
     },
     "execution_count": 13,
     "metadata": {},
     "output_type": "execute_result"
    }
   ],
   "source": [
    "x = np.arange(0,nlags+1)\n",
    "print (x)\n",
    "x.shape"
   ]
  },
  {
   "cell_type": "code",
   "execution_count": 14,
   "id": "refined-aluminum",
   "metadata": {},
   "outputs": [
    {
     "name": "stdout",
     "output_type": "stream",
     "text": [
      "[ 1.          0.36055904  0.43832205  0.40127022  0.22826716  0.24918724\n",
      "  0.15101187  0.18028853  0.24989161  0.15601839  0.07915897  0.23154771\n",
      " -0.0169825  -0.01466523 -0.0033419  -0.08290528 -0.01984712 -0.135677\n",
      " -0.12177448 -0.03335962 -0.17835337 -0.13422302 -0.03268604 -0.07548972\n",
      " -0.0421531  -0.04994595 -0.10848361 -0.07935225 -0.14858541 -0.21920401\n",
      " -0.07485366 -0.1276737  -0.08496734 -0.06135381 -0.0346665  -0.02197916\n",
      " -0.03738199 -0.0693973  -0.05242808 -0.10479092 -0.05708971]\n"
     ]
    },
    {
     "data": {
      "text/plain": [
       "(41,)"
      ]
     },
     "execution_count": 14,
     "metadata": {},
     "output_type": "execute_result"
    }
   ],
   "source": [
    "y = acf\n",
    "print (y)\n",
    "y.shape"
   ]
  },
  {
   "cell_type": "code",
   "execution_count": 15,
   "id": "combined-bulgaria",
   "metadata": {},
   "outputs": [],
   "source": [
    "from statsmodels.graphics.tsaplots import plot_acf, plot_pacf\n",
    "from statsmodels.tsa.seasonal import seasonal_decompose"
   ]
  },
  {
   "cell_type": "code",
   "execution_count": 16,
   "id": "imported-modeling",
   "metadata": {},
   "outputs": [
    {
     "data": {
      "text/plain": [
       "<AxesSubplot:>"
      ]
     },
     "execution_count": 16,
     "metadata": {},
     "output_type": "execute_result"
    },
    {
     "data": {
      "image/png": "[encoded data removed]",
      "text/plain": [
       "<Figure size 432x288 with 1 Axes>"
      ]
     },
     "metadata": {
      "needs_background": "light"
     },
     "output_type": "display_data"
    }
   ],
   "source": [
    "series.plot()"
   ]
  },
  {
   "cell_type": "code",
   "execution_count": 17,
   "id": "respective-fellowship",
   "metadata": {},
   "outputs": [
    {
     "name": "stdout",
     "output_type": "stream",
     "text": [
      "0     NaN\n",
      "1     NaN\n",
      "2     NaN\n",
      "3     NaN\n",
      "4     NaN\n",
      "       ..\n",
      "110   NaN\n",
      "111   NaN\n",
      "112   NaN\n",
      "113   NaN\n",
      "114   NaN\n",
      "Name: resid, Length: 115, dtype: float64\n",
      "[        nan         nan         nan         nan         nan         nan\n",
      "         nan         nan         nan         nan         nan         nan\n",
      "         nan         nan         nan         nan         nan         nan\n",
      "         nan         nan -30.6871875 -40.3434375  19.3065625 -40.7746875\n",
      "  -9.7684375 -21.5871875 -31.6684375 -39.7871875 -21.3121875 -82.3309375\n",
      " -57.8246875 -45.6996875  -3.6184375  72.1190625  -7.7121875  35.4690625\n",
      "  20.4815625  10.8253125  -5.1871875  14.1753125   6.5378125  19.3315625\n",
      "  27.9315625  32.7190625  85.5190625  -5.8809375  23.1940625   5.4940625\n",
      "   1.2315625 -15.8496875  -7.0621875  25.5128125 -19.7871875 -17.1621875\n",
      " -53.0621875  -3.4684375  -3.4684375  -3.4684375  -3.4684375  -3.4684375\n",
      "  23.7503125  33.4065625 -26.2434375  33.8378125   2.8315625  14.6503125\n",
      "  24.7315625  32.8503125  14.3753125  75.3940625  50.8878125  38.7628125\n",
      "  -3.3184375 -79.0559375   0.7753125 -42.4059375 -27.4184375 -17.7621875\n",
      "  -1.7496875 -21.1121875 -13.4746875 -26.2684375 -34.8684375 -39.6559375\n",
      " -92.4559375  -1.0559375 -30.1309375 -12.4309375  -8.1684375   8.9128125\n",
      "   0.1253125 -32.4496875  12.8503125  10.2253125  46.1253125         nan\n",
      "         nan         nan         nan         nan         nan         nan\n",
      "         nan         nan         nan         nan         nan         nan\n",
      "         nan         nan         nan         nan         nan         nan]\n"
     ]
    },
    {
     "data": {
      "image/png": "[encoded data removed]",
      "text/plain": [
       "<Figure size 432x288 with 4 Axes>"
      ]
     },
     "metadata": {
      "needs_background": "light"
     },
     "output_type": "display_data"
    }
   ],
   "source": [
    "result_add = seasonal_decompose(series, model='additive', period=40)\n",
    "result_add.plot()\n",
    "print (result_add.resid)\n",
    "type(result_add)\n",
    "npresid = np.array(result_add.resid)\n",
    "print (npresid[0:114])"
   ]
  },
  {
   "cell_type": "markdown",
   "id": "manufactured-situation",
   "metadata": {},
   "source": [
    "### My specialty is forecasting financial series one day ahead.\n",
    "\n",
    "### IMO ARIMA and its kin are not useful for forecasting.\n",
    "\n",
    "Using a value of 40 periods introduces a lag of 20 weeks\n",
    "due to the centering of the moving average.  \n",
    "This makes any forecast earlier than weeknumber + 20 \n",
    "impossible.\n",
    "ARIMA and kin are valuable to explain,\n",
    "but are not practical for forecasting.\n",
    "A better approach for my work is to detrend using a \n",
    "dynamic moving average, such as exponential or adaptive.  \n",
    "If there are enough complete cycles in the data\n",
    "(there are only two annual cycles in this data),\n",
    "remove them using trigonometric or low degree spline\n",
    "approximations.\n",
    "Then normalize the residuals and feed the machine learning\n",
    "model."
   ]
  },
  {
   "cell_type": "markdown",
   "id": "balanced-librarian",
   "metadata": {},
   "source": [
    "### Adjust length of 'period' to observe results"
   ]
  },
  {
   "cell_type": "code",
   "execution_count": 18,
   "id": "adverse-schema",
   "metadata": {},
   "outputs": [
    {
     "name": "stdout",
     "output_type": "stream",
     "text": [
      "0     NaN\n",
      "1     NaN\n",
      "2     NaN\n",
      "3     NaN\n",
      "4     NaN\n",
      "       ..\n",
      "110   NaN\n",
      "111   NaN\n",
      "112   NaN\n",
      "113   NaN\n",
      "114   NaN\n",
      "Name: resid, Length: 115, dtype: float64\n",
      "[        nan         nan         nan         nan         nan         nan\n",
      "         nan         nan         nan         nan         nan         nan\n",
      "         nan         nan         nan         nan         nan         nan\n",
      "         nan         nan -30.6871875 -40.3434375  19.3065625 -40.7746875\n",
      "  -9.7684375 -21.5871875 -31.6684375 -39.7871875 -21.3121875 -82.3309375\n",
      " -57.8246875 -45.6996875  -3.6184375  72.1190625  -7.7121875  35.4690625\n",
      "  20.4815625  10.8253125  -5.1871875  14.1753125   6.5378125  19.3315625\n",
      "  27.9315625  32.7190625  85.5190625  -5.8809375  23.1940625   5.4940625\n",
      "   1.2315625 -15.8496875  -7.0621875  25.5128125 -19.7871875 -17.1621875\n",
      " -53.0621875  -3.4684375  -3.4684375  -3.4684375  -3.4684375  -3.4684375\n",
      "  23.7503125  33.4065625 -26.2434375  33.8378125   2.8315625  14.6503125\n",
      "  24.7315625  32.8503125  14.3753125  75.3940625  50.8878125  38.7628125\n",
      "  -3.3184375 -79.0559375   0.7753125 -42.4059375 -27.4184375 -17.7621875\n",
      "  -1.7496875 -21.1121875 -13.4746875 -26.2684375 -34.8684375 -39.6559375\n",
      " -92.4559375  -1.0559375 -30.1309375 -12.4309375  -8.1684375   8.9128125\n",
      "   0.1253125 -32.4496875  12.8503125  10.2253125  46.1253125         nan\n",
      "         nan         nan         nan         nan         nan         nan\n",
      "         nan         nan         nan         nan         nan         nan\n",
      "         nan         nan         nan         nan         nan         nan]\n",
      "-3.468437500000005\n",
      "[-30.6871875 -40.3434375  19.3065625 -40.7746875  -9.7684375 -21.5871875\n",
      " -31.6684375 -39.7871875 -21.3121875 -82.3309375 -57.8246875 -45.6996875\n",
      "  -3.6184375  72.1190625  -7.7121875  35.4690625  20.4815625  10.8253125\n",
      "  -5.1871875  14.1753125   6.5378125  19.3315625  27.9315625  32.7190625\n",
      "  85.5190625  -5.8809375  23.1940625   5.4940625   1.2315625 -15.8496875\n",
      "  -7.0621875  25.5128125 -19.7871875 -17.1621875 -53.0621875  -3.4684375\n",
      "  -3.4684375  -3.4684375  -3.4684375  -3.4684375  23.7503125  33.4065625\n",
      " -26.2434375  33.8378125   2.8315625  14.6503125  24.7315625  32.8503125\n",
      "  14.3753125  75.3940625  50.8878125  38.7628125  -3.3184375 -79.0559375\n",
      "   0.7753125 -42.4059375 -27.4184375 -17.7621875  -1.7496875 -21.1121875\n",
      " -13.4746875 -26.2684375 -34.8684375 -39.6559375 -92.4559375  -1.0559375\n",
      " -30.1309375 -12.4309375  -8.1684375   8.9128125   0.1253125 -32.4496875\n",
      "  12.8503125  10.2253125  46.1253125]\n",
      "-3.468437500000005\n"
     ]
    },
    {
     "data": {
      "image/png": "[encoded data removed]",
      "text/plain": [
       "<Figure size 432x288 with 4 Axes>"
      ]
     },
     "metadata": {
      "needs_background": "light"
     },
     "output_type": "display_data"
    }
   ],
   "source": [
    "result_add = seasonal_decompose(series, model='additive', period=40)\n",
    "result_add.plot()\n",
    "print (result_add.resid)\n",
    "type(result_add)\n",
    "npresid = np.array(result_add.resid)\n",
    "print (npresid[0:114])\n",
    "npresidmean = np.nanmean(npresid)\n",
    "print (npresidmean)\n",
    "npresidnan = npresid[np.logical_not(np.isnan(npresid))]\n",
    "print (npresidnan)\n",
    "npresidnanmean = np.mean(npresidnan)\n",
    "print (npresidnanmean)"
   ]
  },
  {
   "cell_type": "code",
   "execution_count": 19,
   "id": "demographic-racing",
   "metadata": {},
   "outputs": [
    {
     "name": "stdout",
     "output_type": "stream",
     "text": [
      "33.33937515036337\n"
     ]
    }
   ],
   "source": [
    "def rmse(predictions, targets):\n",
    "    return np.sqrt(((predictions - targets) ** 2).mean())\n",
    "rmse40 = rmse(npresidnan,npresidnanmean)\n",
    "print (rmse40)\n",
    "\n",
    "#b = a[numpy.logical_not(numpy.isnan(a))] "
   ]
  },
  {
   "cell_type": "markdown",
   "id": "alone-farming",
   "metadata": {},
   "source": [
    "### Calculate the 4 period moving average of IsCanceled "
   ]
  },
  {
   "cell_type": "code",
   "execution_count": 20,
   "id": "selected-senate",
   "metadata": {},
   "outputs": [
    {
     "name": "stdout",
     "output_type": "stream",
     "text": [
      "<class 'pandas.core.series.Series'>\n"
     ]
    }
   ],
   "source": [
    "# IsCanceled data is currently in the 'series' variable\n",
    "print (type(series))"
   ]
  },
  {
   "cell_type": "code",
   "execution_count": 21,
   "id": "funded-vatican",
   "metadata": {},
   "outputs": [
    {
     "data": {
      "image/png": "[encoded data removed]",
      "text/plain": [
       "<Figure size 432x288 with 1 Axes>"
      ]
     },
     "metadata": {
      "needs_background": "light"
     },
     "output_type": "display_data"
    }
   ],
   "source": [
    "series_sma = series.rolling(4).mean()\n",
    "series.plot()\n",
    "series_sma.plot()\n",
    "plt.show()"
   ]
  },
  {
   "cell_type": "markdown",
   "id": "wireless-mozambique",
   "metadata": {},
   "source": [
    "### Split the data into a 90/10 train/test split"
   ]
  },
  {
   "cell_type": "code",
   "execution_count": 22,
   "id": "international-association",
   "metadata": {},
   "outputs": [],
   "source": [
    "#  Using the scikit-learn train_test_split routine\n",
    "\n",
    "from sklearn.model_selection import train_test_split"
   ]
  },
  {
   "cell_type": "code",
   "execution_count": 23,
   "id": "domestic-dimension",
   "metadata": {},
   "outputs": [
    {
     "name": "stdout",
     "output_type": "stream",
     "text": [
      "(115,)\n",
      "(103,) (12,)\n"
     ]
    }
   ],
   "source": [
    "train, test = train_test_split(series, test_size=0.10, shuffle=False)\n",
    "print (series.shape)\n",
    "print (train.shape, test.shape)"
   ]
  },
  {
   "cell_type": "markdown",
   "id": "welcome-brown",
   "metadata": {},
   "source": [
    "### Since this is a time series, it is important that the test data occurs later than the train data.  We can make that explicit by splitting manually using the index of the series."
   ]
  },
  {
   "cell_type": "code",
   "execution_count": 24,
   "id": "amended-broadcasting",
   "metadata": {},
   "outputs": [
    {
     "name": "stdout",
     "output_type": "stream",
     "text": [
      "series length is: 115\n"
     ]
    }
   ],
   "source": [
    "series_length = len(series)\n",
    "print (f'series length is: {series_length}')"
   ]
  },
  {
   "cell_type": "code",
   "execution_count": 25,
   "id": "horizontal-fetish",
   "metadata": {},
   "outputs": [
    {
     "name": "stdout",
     "output_type": "stream",
     "text": [
      "use the data up to position 103 as the train set\n"
     ]
    }
   ],
   "source": [
    "split_point = int(0.90 * series_length)\n",
    "print (f'use the data up to position {split_point} as the train set')\n"
   ]
  },
  {
   "cell_type": "code",
   "execution_count": 26,
   "id": "square-dominican",
   "metadata": {},
   "outputs": [
    {
     "name": "stdout",
     "output_type": "stream",
     "text": [
      "length of train portion: 103\n",
      "length of test portion:  12\n"
     ]
    }
   ],
   "source": [
    "train = series[:split_point]\n",
    "test = series[split_point:]\n",
    "\n",
    "length_train = len(train)\n",
    "length_test = len(test)\n",
    "\n",
    "print (f'length of train portion: {length_train}')\n",
    "print (f'length of test portion:  {length_test}')\n"
   ]
  },
  {
   "cell_type": "code",
   "execution_count": 27,
   "id": "fatal-string",
   "metadata": {},
   "outputs": [
    {
     "name": "stdout",
     "output_type": "stream",
     "text": [
      "0     41\n",
      "1     48\n",
      "2     87\n",
      "3     74\n",
      "4    101\n",
      "Name: IsCanceled, dtype: int64\n",
      "110    173\n",
      "111    140\n",
      "112    182\n",
      "113    143\n",
      "114    100\n",
      "Name: IsCanceled, dtype: int64\n",
      "0     41\n",
      "1     48\n",
      "2     87\n",
      "3     74\n",
      "4    101\n",
      "Name: IsCanceled, dtype: int64\n",
      "98     106\n",
      "99      79\n",
      "100    130\n",
      "101    202\n",
      "102    117\n",
      "Name: IsCanceled, dtype: int64\n",
      "103    152\n",
      "104    131\n",
      "105    161\n",
      "106    131\n",
      "107    139\n",
      "Name: IsCanceled, dtype: int64\n",
      "110    173\n",
      "111    140\n",
      "112    182\n",
      "113    143\n",
      "114    100\n",
      "Name: IsCanceled, dtype: int64\n"
     ]
    }
   ],
   "source": [
    "print (series.head())\n",
    "print (series.tail())\n",
    "print (train.head())\n",
    "print (train.tail())\n",
    "print (test.head())\n",
    "print (test.tail())"
   ]
  },
  {
   "cell_type": "code",
   "execution_count": 28,
   "id": "freelance-anatomy",
   "metadata": {},
   "outputs": [
    {
     "name": "stdout",
     "output_type": "stream",
     "text": [
      "All done with Part 2\n",
      "\n",
      "*******************************************************\n",
      "\n"
     ]
    }
   ],
   "source": [
    "print ('All done with Part 2')\n",
    "print ('\\n*******************************************************\\n')\n"
   ]
  },
  {
   "cell_type": "markdown",
   "id": "recorded-thomas",
   "metadata": {},
   "source": [
    "## Part 3 -- Forecast weekly hotel cancelations with an ARIMA Model"
   ]
  },
  {
   "cell_type": "markdown",
   "id": "massive-roommate",
   "metadata": {},
   "source": [
    "### Objective\n",
    "\n",
    "Remember the weekly time series that you formed in Milestone 1? Your objective is to train an ARIMA model using this newly formed time series to forecast weekly cancellations for the hotel.\n",
    "\n",
    "### Workflow\n",
    "\n",
    "1. Use pmdarima to train a model on the training data and select a model of best fit based on the Bayesian Information Criterion (BIC). The lower the BIC, the higher the fit. Make sure to identify an appropriate seasonal factor when configuring the model (Hint: Use the autocorrelation function to aid you in doing this).\n",
    "2. Calculate the root mean squared error for the predictions versus the actual number of cancellations in the test set. Compare the RMSE value to the mean number of cancellations across the test set.\n",
    "\n",
    "### Deliverable\n",
    "\n",
    "The deliverable for this project is a Jupyter Notebook outlining the following:\n",
    "\n",
    "1. Configuration of an ARIMA model using pmdarima, with the model of best fit ranked according to the Bayesian Information Criterion (BIC).\n",
    "\n",
    "2. Calculation of model accuracy against the test set using RMSE.\n"
   ]
  },
  {
   "cell_type": "code",
   "execution_count": 29,
   "id": "roman-villa",
   "metadata": {},
   "outputs": [],
   "source": [
    "import pmdarima as pm\n",
    "#from pmdarima import model_selection\n"
   ]
  },
  {
   "cell_type": "code",
   "execution_count": 30,
   "id": "consolidated-blade",
   "metadata": {},
   "outputs": [],
   "source": [
    "model = pm.auto_arima(train, \n",
    "                      seasonal=True,\n",
    "                      m=12 )"
   ]
  },
  {
   "cell_type": "code",
   "execution_count": 31,
   "id": "strategic-tribe",
   "metadata": {},
   "outputs": [],
   "source": [
    "pred = model.predict(n_periods=length_test)"
   ]
  },
  {
   "cell_type": "code",
   "execution_count": 32,
   "id": "latter-preference",
   "metadata": {},
   "outputs": [
    {
     "data": {
      "image/png": "[encoded data removed]",
      "text/plain": [
       "<Figure size 432x288 with 1 Axes>"
      ]
     },
     "metadata": {
      "needs_background": "light"
     },
     "output_type": "display_data"
    }
   ],
   "source": [
    "x = np.arange(0,series_length)\n",
    "\n",
    "plt.plot(x[:split_point],train,c='blue')\n",
    "plt.plot(x[split_point:],pred,c='orange')\n",
    "plt.plot(x[split_point:],test,c='green')\n",
    "plt.show()"
   ]
  },
  {
   "cell_type": "markdown",
   "id": "collective-tracker",
   "metadata": {},
   "source": [
    "### IMO, this data set is a poor choice to illustrate ARIMA and seasonality.\n",
    "### It is not stationary, and differencing does not help.\n",
    "### It does not show visual seasonality.\n",
    "### The train set is two years of weekly data.  Some of the weekly data is one data point, others is summary.\n",
    "### The test data set is 13 weeks -- too short to gain much insight.\n"
   ]
  },
  {
   "cell_type": "code",
   "execution_count": 33,
   "id": "painted-holmes",
   "metadata": {},
   "outputs": [
    {
     "name": "stdout",
     "output_type": "stream",
     "text": [
      "all done with Part 3\n"
     ]
    }
   ],
   "source": [
    "print ('all done with Part 3')"
   ]
  },
  {
   "cell_type": "code",
   "execution_count": null,
   "id": "advanced-struggle",
   "metadata": {},
   "outputs": [],
   "source": []
  }
 ],
 "metadata": {
  "kernelspec": {
   "display_name": "Python 3",
   "language": "python",
   "name": "python3"
  },
  "language_info": {
   "codemirror_mode": {
    "name": "ipython",
    "version": 3
   },
   "file_extension": ".py",
   "mimetype": "text/x-python",
   "name": "python",
   "nbconvert_exporter": "python",
   "pygments_lexer": "ipython3",
   "version": "3.7.10"
  }
 },
 "nbformat": 4,
 "nbformat_minor": 5
}
